{
 "cells": [
  {
   "cell_type": "code",
   "execution_count": 1,
   "metadata": {},
   "outputs": [],
   "source": [
    "import pandas as pd\n",
    "import numpy as np\n",
    "import requests\n",
    "import io\n",
    "import matplotlib.pyplot as plt"
   ]
  },
  {
   "cell_type": "markdown",
   "metadata": {},
   "source": [
    "# Calendar heatmap of Helsinki snowfall"
   ]
  },
  {
   "cell_type": "code",
   "execution_count": 2,
   "metadata": {},
   "outputs": [],
   "source": [
    "data_links = 'https://avaa.tdata.fi/smear-services/smeardata.jsp?variables=pwd_smm&table=KUM_META&from=2018-01-01 00:00:00.102&to=2019-12-22 23:59:59.344&quality=ANY&averaging=NONE&type=NONE'\n",
    "\n",
    "with requests.get(data_links) as response:\n",
    "    df = response.content\n",
    "    df = pd.read_csv(io.StringIO(df.decode('utf-8')))"
   ]
  },
  {
   "cell_type": "markdown",
   "metadata": {},
   "source": [
    "A glance of data"
   ]
  },
  {
   "cell_type": "code",
   "execution_count": 3,
   "metadata": {},
   "outputs": [
    {
     "name": "stdout",
     "output_type": "stream",
     "text": [
      "         Year  Month  Day  Hour  Minute  Second  KUM_META.pwd_smm\n",
      "0        2018      1    1     0       0       0               0.0\n",
      "1        2018      1    1     0       1       0               0.0\n",
      "2        2018      1    1     0       2       0               0.0\n",
      "3        2018      1    1     0       3       0               0.0\n",
      "4        2018      1    1     0       4       0               0.0\n",
      "...       ...    ...  ...   ...     ...     ...               ...\n",
      "1038235  2019     12   22    23      55       0               NaN\n",
      "1038236  2019     12   22    23      56       0               NaN\n",
      "1038237  2019     12   22    23      57       0               NaN\n",
      "1038238  2019     12   22    23      58       0               NaN\n",
      "1038239  2019     12   22    23      59       0               NaN\n",
      "\n",
      "[1038240 rows x 7 columns]\n"
     ]
    }
   ],
   "source": [
    "print(df)"
   ]
  },
  {
   "cell_type": "markdown",
   "metadata": {},
   "source": [
    "Combined to make column Time in datetime format"
   ]
  },
  {
   "cell_type": "code",
   "execution_count": 4,
   "metadata": {},
   "outputs": [],
   "source": [
    "df['Time'] = pd.to_datetime(df[['Year', 'Month', 'Day', 'Hour', 'Minute', 'Second']])\n",
    "df = df.drop(['Year', 'Month', 'Day', 'Hour', 'Minute', 'Second'], axis = 1)\n",
    "# Rename column to Temp\n",
    "df.rename(columns = {'KUM_META.pwd_smm' : 'Snow'}, inplace = True)"
   ]
  },
  {
   "cell_type": "markdown",
   "metadata": {},
   "source": [
    "Aggregate daily temperature"
   ]
  },
  {
   "cell_type": "code",
   "execution_count": 5,
   "metadata": {},
   "outputs": [],
   "source": [
    "df = df.groupby([df['Time'].dt.date]).mean()\n",
    "df.index = pd.to_datetime(df.index)"
   ]
  },
  {
   "cell_type": "markdown",
   "metadata": {},
   "source": [
    "Masking snow level"
   ]
  },
  {
   "cell_type": "code",
   "execution_count": 7,
   "metadata": {},
   "outputs": [],
   "source": [
    "df.loc[df.Snow == 0, 'mask'] = \"Not snowing\"\n",
    "df.loc[df.Snow != 0, 'mask'] = \"Snowing\""
   ]
  },
  {
   "cell_type": "markdown",
   "metadata": {},
   "source": [
    "Calendar heatplot"
   ]
  },
  {
   "cell_type": "code",
   "execution_count": 8,
   "metadata": {
    "scrolled": false
   },
   "outputs": [
    {
     "data": {
      "image/png": "[encoded data removed]",
      "text/plain": [
       "<Figure size 1440x432 with 3 Axes>"
      ]
     },
     "metadata": {
      "needs_background": "light"
     },
     "output_type": "display_data"
    }
   ],
   "source": [
    "from matplotlib import colors\n",
    "# Make dataframe for the calendar plot\n",
    "value_to_int = {j:i+1 for i,j in enumerate(pd.unique(df['mask'].ravel()))}\n",
    "df = df.replace(value_to_int)\n",
    "cal = {'2018': df[df.index.year == 2018], '2019': df[df.index.year == 2019]}\n",
    "# Define Ticks\n",
    "DAYS = ['Sun', 'Mon', 'Tues', 'Wed', 'Thurs', 'Fri', 'Sat']\n",
    "MONTHS = ['Jan', 'Feb', 'Mar', 'Apr', 'May', 'June', 'July', 'Aug', 'Sept', 'Oct', 'Nov', 'Dec']\n",
    "\n",
    "fig, ax = plt.subplots(2, 1, figsize = (20,6))\n",
    "for i, val in enumerate(['2018', '2019']):\n",
    "    start = cal.get(val).index.min()\n",
    "    end = cal.get(val).index.max()\n",
    "    start_sun = start - np.timedelta64((start.dayofweek + 1) % 7, 'D')\n",
    "    end_sun =  end + np.timedelta64(7 - end.dayofweek -1, 'D')\n",
    "\n",
    "    num_weeks = (end_sun - start_sun).days // 7\n",
    "    heatmap = np.full([7, num_weeks], np.nan)\n",
    "    ticks = {} \n",
    "    y = np.arange(8) - 0.5\n",
    "    x = np.arange(num_weeks + 1) - 0.5\n",
    "    for week in range(num_weeks):\n",
    "        for day in range(7):\n",
    "            date = start_sun + np.timedelta64(7 * week + day, 'D')\n",
    "            if date.day == 1:\n",
    "                ticks[week] = MONTHS[date.month - 1]\n",
    "            if date.dayofyear == 1:\n",
    "                ticks[week] += f'\\n{date.year}'\n",
    "            if start <= date < end:\n",
    "                heatmap[day, week] = cal.get(val).loc[date, 'mask']\n",
    "\n",
    "    cmap = colors.ListedColormap(['tab:blue', 'whitesmoke'])\n",
    "    mesh = ax[i].pcolormesh(x, y, heatmap, cmap = cmap, edgecolors = 'grey')\n",
    "\n",
    "    ax[i].invert_yaxis()\n",
    "        # Hatch for out of bound values in a year\n",
    "    ax[i].patch.set(hatch='xx', edgecolor='black')\n",
    "\n",
    "    # Set the ticks.\n",
    "    ax[i].set_xticks(list(ticks.keys()))\n",
    "    ax[i].set_xticklabels(list(ticks.values()))\n",
    "    ax[i].set_yticks(np.arange(7))\n",
    "    ax[i].set_yticklabels(DAYS)\n",
    "    ax[i].set_ylim(6.5,-0.5)\n",
    "    ax[i].set_aspect('equal')\n",
    "    ax[i].set_title(val, fontsize = 15)\n",
    "\n",
    "# Add color bar at the bottom\n",
    "cbar_ax = fig.add_axes([0.25, -0.10, 0.5, 0.05])\n",
    "fig.colorbar(mesh, orientation=\"horizontal\", pad=0.2, cax = cbar_ax)\n",
    "n = len(value_to_int)\n",
    "colorbar = ax[1].collections[0].colorbar \n",
    "r = colorbar.vmax - colorbar.vmin \n",
    "colorbar.set_ticks([colorbar.vmin + r / n * (0.5 + i) for i in range(n)])\n",
    "colorbar.set_ticklabels(list(value_to_int.keys()))    \n",
    "fig.suptitle('Frequency of snow', fontweight = 'bold', fontsize = 25)\n",
    "fig.subplots_adjust(hspace = 0.5)"
   ]
  },
  {
   "cell_type": "markdown",
   "metadata": {},
   "source": [
    "# Calendar heatmap of Helsinki temperature"
   ]
  },
  {
   "cell_type": "code",
   "execution_count": 9,
   "metadata": {},
   "outputs": [],
   "source": [
    "data_links = 'https://avaa.tdata.fi/smear-services/smeardata.jsp?variables=t&table=KUM_META&from=2018-01-01 00:00:00.112&to=2019-12-31 23:59:59.408&quality=ANY&averaging=NONE&type=NONE'\n",
    "\n",
    "with requests.get(data_links) as response:\n",
    "    df = response.content\n",
    "    df = pd.read_csv(io.StringIO(df.decode('utf-8')))"
   ]
  },
  {
   "cell_type": "markdown",
   "metadata": {},
   "source": [
    "A glance of data"
   ]
  },
  {
   "cell_type": "code",
   "execution_count": 10,
   "metadata": {},
   "outputs": [
    {
     "name": "stdout",
     "output_type": "stream",
     "text": [
      "         Year  Month  Day  Hour  Minute  Second  KUM_META.t\n",
      "0        2018      1    1     0       0       0        -0.3\n",
      "1        2018      1    1     0       1       0        -0.4\n",
      "2        2018      1    1     0       2       0        -0.4\n",
      "3        2018      1    1     0       3       0        -0.4\n",
      "4        2018      1    1     0       4       0        -0.4\n",
      "...       ...    ...  ...   ...     ...     ...         ...\n",
      "1038235  2019     12   22    23      55       0         NaN\n",
      "1038236  2019     12   22    23      56       0         NaN\n",
      "1038237  2019     12   22    23      57       0         NaN\n",
      "1038238  2019     12   22    23      58       0         NaN\n",
      "1038239  2019     12   22    23      59       0         NaN\n",
      "\n",
      "[1038240 rows x 7 columns]\n"
     ]
    }
   ],
   "source": [
    "print(df)"
   ]
  },
  {
   "cell_type": "markdown",
   "metadata": {},
   "source": [
    "Combined to make column Time in datetime format"
   ]
  },
  {
   "cell_type": "code",
   "execution_count": 11,
   "metadata": {},
   "outputs": [],
   "source": [
    "df['Time'] = pd.to_datetime(df[['Year', 'Month', 'Day', 'Hour', 'Minute', 'Second']])\n",
    "df = df.drop(['Year', 'Month', 'Day', 'Hour', 'Minute', 'Second'], axis = 1)\n",
    "# Rename column to Temp\n",
    "df.rename(columns = {'KUM_META.t' : 'Temp'}, inplace = True)"
   ]
  },
  {
   "cell_type": "markdown",
   "metadata": {},
   "source": [
    "Aggregate daily temperature"
   ]
  },
  {
   "cell_type": "code",
   "execution_count": 12,
   "metadata": {},
   "outputs": [],
   "source": [
    "df = df.groupby([df['Time'].dt.date]).mean()\n",
    "df.index = pd.to_datetime(df.index)"
   ]
  },
  {
   "cell_type": "markdown",
   "metadata": {},
   "source": [
    "Plot calendar heatmap"
   ]
  },
  {
   "cell_type": "code",
   "execution_count": 13,
   "metadata": {
    "scrolled": false
   },
   "outputs": [
    {
     "data": {
      "image/png": "[encoded data removed]",
      "text/plain": [
       "<Figure size 1440x432 with 3 Axes>"
      ]
     },
     "metadata": {
      "needs_background": "light"
     },
     "output_type": "display_data"
    }
   ],
   "source": [
    "from matplotlib import colors\n",
    "\n",
    "# Turn data frame to a dictionary for easy access\n",
    "cal = {'2018': df[df.index.year == 2018], '2019': df[df.index.year == 2019]}\n",
    "\n",
    "# Define Ticks\n",
    "DAYS = ['Sun', 'Mon', 'Tues', 'Wed', 'Thurs', 'Fri', 'Sat']\n",
    "MONTHS = ['Jan', 'Feb', 'Mar', 'Apr', 'May', 'June', 'July', 'Aug', 'Sept', 'Oct', 'Nov', 'Dec']\n",
    "\n",
    "fig, ax = plt.subplots(2, 1, figsize = (20,6))\n",
    "for i, val in enumerate(['2018', '2019']):\n",
    "    start = cal.get(val).index.min()\n",
    "    end = cal.get(val).index.max()\n",
    "    start_sun = start - np.timedelta64((start.dayofweek + 1) % 7, 'D')\n",
    "    end_sun =  end + np.timedelta64(7 - end.dayofweek -1, 'D')\n",
    "\n",
    "    num_weeks = (end_sun - start_sun).days // 7\n",
    "    heatmap = np.full([7, num_weeks], np.nan)    \n",
    "    ticks = {} \n",
    "    y = np.arange(8) - 0.5\n",
    "    x = np.arange(num_weeks + 1) - 0.5\n",
    "    for week in range(num_weeks):\n",
    "        for day in range(7):\n",
    "            date = start_sun + np.timedelta64(7 * week + day, 'D')\n",
    "            if date.day == 1:\n",
    "                ticks[week] = MONTHS[date.month - 1]\n",
    "            if date.dayofyear == 1:\n",
    "                ticks[week] += f'\\n{date.year}'\n",
    "            if start <= date < end:\n",
    "                heatmap[day, week] = cal.get(val).loc[date, 'Temp']\n",
    "    mesh = ax[i].pcolormesh(x, y, heatmap, cmap = 'jet', edgecolors = 'grey')\n",
    "\n",
    "    ax[i].invert_yaxis()\n",
    "\n",
    "    # Set the ticks.\n",
    "    ax[i].set_xticks(list(ticks.keys()))\n",
    "    ax[i].set_xticklabels(list(ticks.values()))\n",
    "    ax[i].set_yticks(np.arange(7))\n",
    "    ax[i].set_yticklabels(DAYS)\n",
    "    ax[i].set_ylim(6.5,-0.5)\n",
    "    ax[i].set_aspect('equal')\n",
    "    ax[i].set_title(val, fontsize = 15)\n",
    "    \n",
    "    # Hatch for out of bound values in a year\n",
    "    ax[i].patch.set(hatch='xx', edgecolor='black')\n",
    "    \n",
    "# Add color bar at the bottom\n",
    "cbar_ax = fig.add_axes([0.25, -0.10, 0.5, 0.05])\n",
    "fig.colorbar(mesh, orientation=\"horizontal\", pad=0.2, cax = cbar_ax)\n",
    "colorbar = ax[1].collections[0].colorbar \n",
    "r = colorbar.vmax - colorbar.vmin \n",
    "fig.suptitle('Temperature of Helsinki', fontweight = 'bold', fontsize = 25)\n",
    "fig.subplots_adjust(hspace = 0.5)"
   ]
  }
 ],
 "metadata": {
  "kernelspec": {
   "display_name": "Python 3",
   "language": "python",
   "name": "python3"
  },
  "language_info": {
   "codemirror_mode": {
    "name": "ipython",
    "version": 3
   },
   "file_extension": ".py",
   "mimetype": "text/x-python",
   "name": "python",
   "nbconvert_exporter": "python",
   "pygments_lexer": "ipython3",
   "version": "3.7.3"
  }
 },
 "nbformat": 4,
 "nbformat_minor": 2
}
